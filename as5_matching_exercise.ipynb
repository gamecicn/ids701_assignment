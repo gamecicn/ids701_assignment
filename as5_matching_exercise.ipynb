{
 "cells": [
  {
   "cell_type": "markdown",
   "metadata": {},
   "source": [
    "# Matching Exercise"
   ]
  },
  {
   "cell_type": "markdown",
   "metadata": {},
   "source": [
    "In this exercise, we’ll be evaluating how getting a college degree impacts earnings in the US using matching."
   ]
  },
  {
   "cell_type": "markdown",
   "metadata": {},
   "source": [
    "# Data Setup"
   ]
  },
  {
   "cell_type": "code",
   "execution_count": 10,
   "metadata": {},
   "outputs": [
    {
     "data": {
      "text/html": [
       "<div>\n",
       "<style scoped>\n",
       "    .dataframe tbody tr th:only-of-type {\n",
       "        vertical-align: middle;\n",
       "    }\n",
       "\n",
       "    .dataframe tbody tr th {\n",
       "        vertical-align: top;\n",
       "    }\n",
       "\n",
       "    .dataframe thead th {\n",
       "        text-align: right;\n",
       "    }\n",
       "</style>\n",
       "<table border=\"1\" class=\"dataframe\">\n",
       "  <thead>\n",
       "    <tr style=\"text-align: right;\">\n",
       "      <th></th>\n",
       "      <th>index</th>\n",
       "      <th>annual_earnings</th>\n",
       "      <th>female</th>\n",
       "      <th>simplified_race</th>\n",
       "      <th>has_college</th>\n",
       "      <th>age</th>\n",
       "      <th>county</th>\n",
       "      <th>class94</th>\n",
       "    </tr>\n",
       "  </thead>\n",
       "  <tbody>\n",
       "    <tr>\n",
       "      <th>0</th>\n",
       "      <td>151404</td>\n",
       "      <td>NaN</td>\n",
       "      <td>1</td>\n",
       "      <td>3.0</td>\n",
       "      <td>1</td>\n",
       "      <td>30</td>\n",
       "      <td>0-WV</td>\n",
       "      <td>Private, For Profit</td>\n",
       "    </tr>\n",
       "    <tr>\n",
       "      <th>1</th>\n",
       "      <td>123453</td>\n",
       "      <td>NaN</td>\n",
       "      <td>0</td>\n",
       "      <td>0.0</td>\n",
       "      <td>0</td>\n",
       "      <td>21</td>\n",
       "      <td>251-TX</td>\n",
       "      <td>Private, For Profit</td>\n",
       "    </tr>\n",
       "    <tr>\n",
       "      <th>2</th>\n",
       "      <td>187982</td>\n",
       "      <td>NaN</td>\n",
       "      <td>0</td>\n",
       "      <td>0.0</td>\n",
       "      <td>0</td>\n",
       "      <td>40</td>\n",
       "      <td>5-MA</td>\n",
       "      <td>Self-Employed, Unincorporated</td>\n",
       "    </tr>\n",
       "    <tr>\n",
       "      <th>3</th>\n",
       "      <td>122356</td>\n",
       "      <td>NaN</td>\n",
       "      <td>1</td>\n",
       "      <td>0.0</td>\n",
       "      <td>1</td>\n",
       "      <td>27</td>\n",
       "      <td>0-TN</td>\n",
       "      <td>Private, Nonprofit</td>\n",
       "    </tr>\n",
       "    <tr>\n",
       "      <th>4</th>\n",
       "      <td>210750</td>\n",
       "      <td>42900.0</td>\n",
       "      <td>1</td>\n",
       "      <td>0.0</td>\n",
       "      <td>0</td>\n",
       "      <td>52</td>\n",
       "      <td>0-IA</td>\n",
       "      <td>Private, For Profit</td>\n",
       "    </tr>\n",
       "  </tbody>\n",
       "</table>\n",
       "</div>"
      ],
      "text/plain": [
       "    index  annual_earnings  female  simplified_race  has_college  age  county  \\\n",
       "0  151404              NaN       1              3.0            1   30    0-WV   \n",
       "1  123453              NaN       0              0.0            0   21  251-TX   \n",
       "2  187982              NaN       0              0.0            0   40    5-MA   \n",
       "3  122356              NaN       1              0.0            1   27    0-TN   \n",
       "4  210750          42900.0       1              0.0            0   52    0-IA   \n",
       "\n",
       "                         class94  \n",
       "0            Private, For Profit  \n",
       "1            Private, For Profit  \n",
       "2  Self-Employed, Unincorporated  \n",
       "3             Private, Nonprofit  \n",
       "4            Private, For Profit  "
      ]
     },
     "execution_count": 10,
     "metadata": {},
     "output_type": "execute_result"
    }
   ],
   "source": [
    "import pandas as pd\n",
    "\n",
    "df = pd.read_stata(\n",
    "    \"./data/cps_for_matching.dta\"\n",
    ")\n",
    "\n",
    "df.head()"
   ]
  },
  {
   "cell_type": "markdown",
   "metadata": {},
   "source": [
    "# Getting To Know Your Data\n",
    "Before you start matching, it is important to examine your data to ensure that matching is feasible (you have some overlap the the features of people in the treated and untreated groups), and also that there is a reason to match: either you’re unsure about some of the functional forms at play, or your have some imbalance between the two groups."
   ]
  },
  {
   "cell_type": "markdown",
   "metadata": {},
   "source": [
    "## Exercise 1\n",
    "Show the raw difference of annual_earnings between those with and without a college degree (has_college). Is the difference statistically significant?"
   ]
  },
  {
   "cell_type": "code",
   "execution_count": 11,
   "metadata": {},
   "outputs": [
    {
     "data": {
      "text/html": [
       "<div>\n",
       "<style scoped>\n",
       "    .dataframe tbody tr th:only-of-type {\n",
       "        vertical-align: middle;\n",
       "    }\n",
       "\n",
       "    .dataframe tbody tr th {\n",
       "        vertical-align: top;\n",
       "    }\n",
       "\n",
       "    .dataframe thead th {\n",
       "        text-align: right;\n",
       "    }\n",
       "</style>\n",
       "<table border=\"1\" class=\"dataframe\">\n",
       "  <thead>\n",
       "    <tr style=\"text-align: right;\">\n",
       "      <th></th>\n",
       "      <th>index</th>\n",
       "      <th>annual_earnings</th>\n",
       "      <th>female</th>\n",
       "      <th>simplified_race</th>\n",
       "      <th>has_college</th>\n",
       "      <th>age</th>\n",
       "      <th>county</th>\n",
       "      <th>class94</th>\n",
       "    </tr>\n",
       "  </thead>\n",
       "  <tbody>\n",
       "    <tr>\n",
       "      <th>4</th>\n",
       "      <td>210750</td>\n",
       "      <td>42900.0</td>\n",
       "      <td>1</td>\n",
       "      <td>0.0</td>\n",
       "      <td>0</td>\n",
       "      <td>52</td>\n",
       "      <td>0-IA</td>\n",
       "      <td>Private, For Profit</td>\n",
       "    </tr>\n",
       "    <tr>\n",
       "      <th>5</th>\n",
       "      <td>14438</td>\n",
       "      <td>31200.0</td>\n",
       "      <td>0</td>\n",
       "      <td>2.0</td>\n",
       "      <td>0</td>\n",
       "      <td>34</td>\n",
       "      <td>0-NV</td>\n",
       "      <td>Private, For Profit</td>\n",
       "    </tr>\n",
       "    <tr>\n",
       "      <th>7</th>\n",
       "      <td>108334</td>\n",
       "      <td>20020.0</td>\n",
       "      <td>0</td>\n",
       "      <td>0.0</td>\n",
       "      <td>1</td>\n",
       "      <td>68</td>\n",
       "      <td>0-GA</td>\n",
       "      <td>Private, For Profit</td>\n",
       "    </tr>\n",
       "    <tr>\n",
       "      <th>8</th>\n",
       "      <td>249989</td>\n",
       "      <td>22859.2</td>\n",
       "      <td>0</td>\n",
       "      <td>0.0</td>\n",
       "      <td>0</td>\n",
       "      <td>46</td>\n",
       "      <td>0-VT</td>\n",
       "      <td>Government - Local</td>\n",
       "    </tr>\n",
       "    <tr>\n",
       "      <th>9</th>\n",
       "      <td>64886</td>\n",
       "      <td>73860.8</td>\n",
       "      <td>0</td>\n",
       "      <td>0.0</td>\n",
       "      <td>1</td>\n",
       "      <td>38</td>\n",
       "      <td>0-MT</td>\n",
       "      <td>Private, For Profit</td>\n",
       "    </tr>\n",
       "  </tbody>\n",
       "</table>\n",
       "</div>"
      ],
      "text/plain": [
       "    index  annual_earnings  female  simplified_race  has_college  age county  \\\n",
       "4  210750          42900.0       1              0.0            0   52   0-IA   \n",
       "5   14438          31200.0       0              2.0            0   34   0-NV   \n",
       "7  108334          20020.0       0              0.0            1   68   0-GA   \n",
       "8  249989          22859.2       0              0.0            0   46   0-VT   \n",
       "9   64886          73860.8       0              0.0            1   38   0-MT   \n",
       "\n",
       "               class94  \n",
       "4  Private, For Profit  \n",
       "5  Private, For Profit  \n",
       "7  Private, For Profit  \n",
       "8   Government - Local  \n",
       "9  Private, For Profit  "
      ]
     },
     "execution_count": 11,
     "metadata": {},
     "output_type": "execute_result"
    }
   ],
   "source": [
    "cps[cps['annual_earnings'].isnull() == False].head()"
   ]
  },
  {
   "cell_type": "code",
   "execution_count": 15,
   "metadata": {},
   "outputs": [
    {
     "name": "stdout",
     "output_type": "stream",
     "text": [
      "Annual earnings with college degree: 53024.16\n",
      "Annual earnings without college degree: 38865.67\n",
      "Difference between genders : 14158.50\n",
      "P-value : 0.0000\n"
     ]
    }
   ],
   "source": [
    "from scipy.stats import ttest_ind\n",
    "\n",
    "dfn = df[df['annual_earnings'].isnull() == False]\n",
    "\n",
    "# Compare\n",
    "college    =  dfn[dfn['has_college']==1 ][\"annual_earnings\"].mean()\n",
    "nocollege =  dfn[dfn['has_college']==0][\"annual_earnings\"].mean()\n",
    "\n",
    "t_test = ttest_ind(dfn[dfn['has_college']==1 ][\"annual_earnings\"],\n",
    "                   dfn[dfn['has_college']==0][\"annual_earnings\"])\n",
    "\n",
    "print(\"Annual earnings with college degree: {:.2f}\".format(college))\n",
    "print(\"Annual earnings without college degree: {:.2f}\".format(nocollege))\n",
    "print(\"Difference between genders : {:.2f}\".format(college-nocollege))\n",
    "print(\"P-value : {:.4f}\".format(t_test[1]))"
   ]
  },
  {
   "cell_type": "markdown",
   "metadata": {},
   "source": [
    "**Answer:** The annual salary with a college degree is 53024 dollars, while the annual salary without a college degree is 38865. The difference is about 14158 dollars. According to the p-value of the t-test, the difference is significant. "
   ]
  },
  {
   "cell_type": "code",
   "execution_count": null,
   "metadata": {},
   "outputs": [],
   "source": []
  }
 ],
 "metadata": {
  "kernelspec": {
   "display_name": "Python 3",
   "language": "python",
   "name": "python3"
  },
  "language_info": {
   "codemirror_mode": {
    "name": "ipython",
    "version": 3
   },
   "file_extension": ".py",
   "mimetype": "text/x-python",
   "name": "python",
   "nbconvert_exporter": "python",
   "pygments_lexer": "ipython3",
   "version": "3.6.12"
  }
 },
 "nbformat": 4,
 "nbformat_minor": 4
}
