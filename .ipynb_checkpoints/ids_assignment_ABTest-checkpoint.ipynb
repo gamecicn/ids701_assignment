{
 "cells": [
  {
   "cell_type": "markdown",
   "metadata": {},
   "source": [
    "# A/B Testing the Udacity Website"
   ]
  },
  {
   "cell_type": "markdown",
   "metadata": {},
   "source": [
    "## Exercise 1\n",
    "Begin by importing Udacity’s data on user behavior by going to http://www.github.com/nickeubank/MIDS_Data/ and using the udacity_AB_testingfolder, or by clicking here. Note that there are TWO datasets for this test – one for the control data (users who saw the original design), and one for treatment data (users who saw the experimental design). Udacity decided to show their test site to 1/2 of visitors, so there are roughly the same number of users appearing in each dataset (though this is not a requirement of AB tests)."
   ]
  },
  {
   "cell_type": "code",
   "execution_count": 1,
   "metadata": {},
   "outputs": [],
   "source": [
    "import pandas as pd\n",
    "import numpy as np\n",
    "from scipy import stats"
   ]
  },
  {
   "cell_type": "code",
   "execution_count": 2,
   "metadata": {},
   "outputs": [],
   "source": [
    "control_data = pd.read_csv(\"./data/control_data.csv\")\n",
    "experiment_data = pd.read_csv(\"./data/experiment_data.csv\")"
   ]
  },
  {
   "cell_type": "code",
   "execution_count": 3,
   "metadata": {},
   "outputs": [
    {
     "data": {
      "text/html": [
       "<div>\n",
       "<style scoped>\n",
       "    .dataframe tbody tr th:only-of-type {\n",
       "        vertical-align: middle;\n",
       "    }\n",
       "\n",
       "    .dataframe tbody tr th {\n",
       "        vertical-align: top;\n",
       "    }\n",
       "\n",
       "    .dataframe thead th {\n",
       "        text-align: right;\n",
       "    }\n",
       "</style>\n",
       "<table border=\"1\" class=\"dataframe\">\n",
       "  <thead>\n",
       "    <tr style=\"text-align: right;\">\n",
       "      <th></th>\n",
       "      <th>Date</th>\n",
       "      <th>Pageviews</th>\n",
       "      <th>Clicks</th>\n",
       "      <th>Enrollments</th>\n",
       "      <th>Payments</th>\n",
       "    </tr>\n",
       "  </thead>\n",
       "  <tbody>\n",
       "    <tr>\n",
       "      <th>0</th>\n",
       "      <td>Sat, Oct 11</td>\n",
       "      <td>7716</td>\n",
       "      <td>686</td>\n",
       "      <td>105.0</td>\n",
       "      <td>34.0</td>\n",
       "    </tr>\n",
       "    <tr>\n",
       "      <th>1</th>\n",
       "      <td>Sun, Oct 12</td>\n",
       "      <td>9288</td>\n",
       "      <td>785</td>\n",
       "      <td>116.0</td>\n",
       "      <td>91.0</td>\n",
       "    </tr>\n",
       "    <tr>\n",
       "      <th>2</th>\n",
       "      <td>Mon, Oct 13</td>\n",
       "      <td>10480</td>\n",
       "      <td>884</td>\n",
       "      <td>145.0</td>\n",
       "      <td>79.0</td>\n",
       "    </tr>\n",
       "    <tr>\n",
       "      <th>3</th>\n",
       "      <td>Tue, Oct 14</td>\n",
       "      <td>9867</td>\n",
       "      <td>827</td>\n",
       "      <td>138.0</td>\n",
       "      <td>92.0</td>\n",
       "    </tr>\n",
       "    <tr>\n",
       "      <th>4</th>\n",
       "      <td>Wed, Oct 15</td>\n",
       "      <td>9793</td>\n",
       "      <td>832</td>\n",
       "      <td>140.0</td>\n",
       "      <td>94.0</td>\n",
       "    </tr>\n",
       "  </tbody>\n",
       "</table>\n",
       "</div>"
      ],
      "text/plain": [
       "          Date  Pageviews  Clicks  Enrollments  Payments\n",
       "0  Sat, Oct 11       7716     686        105.0      34.0\n",
       "1  Sun, Oct 12       9288     785        116.0      91.0\n",
       "2  Mon, Oct 13      10480     884        145.0      79.0\n",
       "3  Tue, Oct 14       9867     827        138.0      92.0\n",
       "4  Wed, Oct 15       9793     832        140.0      94.0"
      ]
     },
     "execution_count": 3,
     "metadata": {},
     "output_type": "execute_result"
    }
   ],
   "source": [
    "experiment_data.head()"
   ]
  },
  {
   "cell_type": "code",
   "execution_count": 4,
   "metadata": {},
   "outputs": [
    {
     "data": {
      "text/html": [
       "<div>\n",
       "<style scoped>\n",
       "    .dataframe tbody tr th:only-of-type {\n",
       "        vertical-align: middle;\n",
       "    }\n",
       "\n",
       "    .dataframe tbody tr th {\n",
       "        vertical-align: top;\n",
       "    }\n",
       "\n",
       "    .dataframe thead th {\n",
       "        text-align: right;\n",
       "    }\n",
       "</style>\n",
       "<table border=\"1\" class=\"dataframe\">\n",
       "  <thead>\n",
       "    <tr style=\"text-align: right;\">\n",
       "      <th></th>\n",
       "      <th>Date</th>\n",
       "      <th>Pageviews</th>\n",
       "      <th>Clicks</th>\n",
       "      <th>Enrollments</th>\n",
       "      <th>Payments</th>\n",
       "    </tr>\n",
       "  </thead>\n",
       "  <tbody>\n",
       "    <tr>\n",
       "      <th>0</th>\n",
       "      <td>Sat, Oct 11</td>\n",
       "      <td>7723</td>\n",
       "      <td>687</td>\n",
       "      <td>134.0</td>\n",
       "      <td>70.0</td>\n",
       "    </tr>\n",
       "    <tr>\n",
       "      <th>1</th>\n",
       "      <td>Sun, Oct 12</td>\n",
       "      <td>9102</td>\n",
       "      <td>779</td>\n",
       "      <td>147.0</td>\n",
       "      <td>70.0</td>\n",
       "    </tr>\n",
       "    <tr>\n",
       "      <th>2</th>\n",
       "      <td>Mon, Oct 13</td>\n",
       "      <td>10511</td>\n",
       "      <td>909</td>\n",
       "      <td>167.0</td>\n",
       "      <td>95.0</td>\n",
       "    </tr>\n",
       "    <tr>\n",
       "      <th>3</th>\n",
       "      <td>Tue, Oct 14</td>\n",
       "      <td>9871</td>\n",
       "      <td>836</td>\n",
       "      <td>156.0</td>\n",
       "      <td>105.0</td>\n",
       "    </tr>\n",
       "    <tr>\n",
       "      <th>4</th>\n",
       "      <td>Wed, Oct 15</td>\n",
       "      <td>10014</td>\n",
       "      <td>837</td>\n",
       "      <td>163.0</td>\n",
       "      <td>64.0</td>\n",
       "    </tr>\n",
       "  </tbody>\n",
       "</table>\n",
       "</div>"
      ],
      "text/plain": [
       "          Date  Pageviews  Clicks  Enrollments  Payments\n",
       "0  Sat, Oct 11       7723     687        134.0      70.0\n",
       "1  Sun, Oct 12       9102     779        147.0      70.0\n",
       "2  Mon, Oct 13      10511     909        167.0      95.0\n",
       "3  Tue, Oct 14       9871     836        156.0     105.0\n",
       "4  Wed, Oct 15      10014     837        163.0      64.0"
      ]
     },
     "execution_count": 4,
     "metadata": {},
     "output_type": "execute_result"
    }
   ],
   "source": [
    "control_data.head()"
   ]
  },
  {
   "cell_type": "markdown",
   "metadata": {},
   "source": [
    "## Exercise 2\n",
    "Explore the data. Can you identifying the unit of observation of the data (e.g. what is represented by each row)?"
   ]
  },
  {
   "cell_type": "markdown",
   "metadata": {},
   "source": [
    "> Here, each row indicates the performance on a specific day. For each row, it contains five properties (columns).\n",
    "\n",
    "> - Date:  Date\n",
    "> - Pageviews:  Number of unique **cookies** to view the course overview page that day.\n",
    "> - Clicks: Number of **unique cookies** to click the course overview page that day.\n",
    "> - Enrollments: Number of **user-ids to** enroll in the free trial that day.\n",
    "> - Payments: Number of **user-ids** who who enrolled on that day to remain enrolled for 14 days and thus make a payment.\n",
    "\n",
    "> One thing to notice is that unite of pageviews and clicks is different from enrollments and payments. The first two properties' unit is unique cookies while the last two properties are user-ids."
   ]
  },
  {
   "cell_type": "markdown",
   "metadata": {},
   "source": [
    "## Exercise 3\n",
    "The easiest way to analyze this data is to stack it into a single dataset where each observation is a day-treatment-arm (so you should end up with two rows per day, one for those who are in the treated groups, and one for those who were in the control group). Note that currently nothing in the data identifies whether a given observation is a treatment group observation or a control group observation, so you’ll want to make sure to add a “treatment” indicator variable.\n",
    "\n",
    "The variables in the data are:\n",
    "\n",
    "- Pageviews: number of unique users visiting homepage\n",
    "- Clicks: number of those users clicking “Start Free Trial”\n",
    "- Enrollments: Number of people enrolling in trial\n",
    "- Payments: Number of people who eventually pay for the service"
   ]
  },
  {
   "cell_type": "code",
   "execution_count": 5,
   "metadata": {},
   "outputs": [
    {
     "data": {
      "text/html": [
       "<div>\n",
       "<style scoped>\n",
       "    .dataframe tbody tr th:only-of-type {\n",
       "        vertical-align: middle;\n",
       "    }\n",
       "\n",
       "    .dataframe tbody tr th {\n",
       "        vertical-align: top;\n",
       "    }\n",
       "\n",
       "    .dataframe thead th {\n",
       "        text-align: right;\n",
       "    }\n",
       "</style>\n",
       "<table border=\"1\" class=\"dataframe\">\n",
       "  <thead>\n",
       "    <tr style=\"text-align: right;\">\n",
       "      <th></th>\n",
       "      <th>Date</th>\n",
       "      <th>Pageviews</th>\n",
       "      <th>Clicks</th>\n",
       "      <th>Enrollments</th>\n",
       "      <th>Payments</th>\n",
       "      <th>Treatment</th>\n",
       "    </tr>\n",
       "  </thead>\n",
       "  <tbody>\n",
       "    <tr>\n",
       "      <th>0</th>\n",
       "      <td>2017-10-11</td>\n",
       "      <td>7723</td>\n",
       "      <td>687</td>\n",
       "      <td>134.0</td>\n",
       "      <td>70.0</td>\n",
       "      <td>0</td>\n",
       "    </tr>\n",
       "    <tr>\n",
       "      <th>0</th>\n",
       "      <td>2017-10-11</td>\n",
       "      <td>7716</td>\n",
       "      <td>686</td>\n",
       "      <td>105.0</td>\n",
       "      <td>34.0</td>\n",
       "      <td>1</td>\n",
       "    </tr>\n",
       "    <tr>\n",
       "      <th>1</th>\n",
       "      <td>2017-10-12</td>\n",
       "      <td>9102</td>\n",
       "      <td>779</td>\n",
       "      <td>147.0</td>\n",
       "      <td>70.0</td>\n",
       "      <td>0</td>\n",
       "    </tr>\n",
       "    <tr>\n",
       "      <th>1</th>\n",
       "      <td>2017-10-12</td>\n",
       "      <td>9288</td>\n",
       "      <td>785</td>\n",
       "      <td>116.0</td>\n",
       "      <td>91.0</td>\n",
       "      <td>1</td>\n",
       "    </tr>\n",
       "    <tr>\n",
       "      <th>2</th>\n",
       "      <td>2017-10-13</td>\n",
       "      <td>10511</td>\n",
       "      <td>909</td>\n",
       "      <td>167.0</td>\n",
       "      <td>95.0</td>\n",
       "      <td>0</td>\n",
       "    </tr>\n",
       "    <tr>\n",
       "      <th>2</th>\n",
       "      <td>2017-10-13</td>\n",
       "      <td>10480</td>\n",
       "      <td>884</td>\n",
       "      <td>145.0</td>\n",
       "      <td>79.0</td>\n",
       "      <td>1</td>\n",
       "    </tr>\n",
       "  </tbody>\n",
       "</table>\n",
       "</div>"
      ],
      "text/plain": [
       "        Date  Pageviews  Clicks  Enrollments  Payments  Treatment\n",
       "0 2017-10-11       7723     687        134.0      70.0          0\n",
       "0 2017-10-11       7716     686        105.0      34.0          1\n",
       "1 2017-10-12       9102     779        147.0      70.0          0\n",
       "1 2017-10-12       9288     785        116.0      91.0          1\n",
       "2 2017-10-13      10511     909        167.0      95.0          0\n",
       "2 2017-10-13      10480     884        145.0      79.0          1"
      ]
     },
     "execution_count": 5,
     "metadata": {},
     "output_type": "execute_result"
    }
   ],
   "source": [
    "control_data['Treatment'] = 0\n",
    "experiment_data['Treatment'] = 1\n",
    "\n",
    "data = pd.concat([control_data, experiment_data]).sort_values(\"Date\")\n",
    "\n",
    "# Convert Date to standard np datetime, assume default year is 2017\n",
    "data['Date'] = pd.to_datetime(data['Date'] , format='%a, %b %d') \\\n",
    "                 .apply(lambda x: x.replace(year=2017)) \n",
    "\n",
    "data.sort_values(['Date', 'Treatment'], inplace = True)\n",
    "data.head(n=6)"
   ]
  },
  {
   "cell_type": "markdown",
   "metadata": {},
   "source": [
    "#### Check is there unmatched record "
   ]
  },
  {
   "cell_type": "code",
   "execution_count": 6,
   "metadata": {},
   "outputs": [
    {
     "data": {
      "text/plain": [
       "0"
      ]
     },
     "execution_count": 6,
     "metadata": {},
     "output_type": "execute_result"
    }
   ],
   "source": [
    "sum(data.groupby(\"Date\")[\"Pageviews\"].count() == 1)"
   ]
  },
  {
   "cell_type": "markdown",
   "metadata": {},
   "source": [
    "0 means all records are pairs wised, one comes from the control group, and another comes from the treatment group. "
   ]
  },
  {
   "cell_type": "markdown",
   "metadata": {},
   "source": [
    "# Exercise 4\n",
    "Given the outcomes of interest to Udacity, what outcomes do you want to measure? (In the language of the Potential Outcomes Framework, what are your Y variables?). Add these to your data."
   ]
  },
  {
   "cell_type": "markdown",
   "metadata": {},
   "source": [
    "> The Gross Conversion and Net Conversion are the most important metrics to care about, because they are associated with income.\n",
    "-  $ NetConv = \\frac{Payments}{Clicks} $\n",
    "-  $ GrossConv = \\frac{Enrollments}{Clicks} $"
   ]
  },
  {
   "cell_type": "code",
   "execution_count": 7,
   "metadata": {},
   "outputs": [
    {
     "data": {
      "text/html": [
       "<div>\n",
       "<style scoped>\n",
       "    .dataframe tbody tr th:only-of-type {\n",
       "        vertical-align: middle;\n",
       "    }\n",
       "\n",
       "    .dataframe tbody tr th {\n",
       "        vertical-align: top;\n",
       "    }\n",
       "\n",
       "    .dataframe thead th {\n",
       "        text-align: right;\n",
       "    }\n",
       "</style>\n",
       "<table border=\"1\" class=\"dataframe\">\n",
       "  <thead>\n",
       "    <tr style=\"text-align: right;\">\n",
       "      <th></th>\n",
       "      <th>Date</th>\n",
       "      <th>Pageviews</th>\n",
       "      <th>Clicks</th>\n",
       "      <th>Enrollments</th>\n",
       "      <th>Payments</th>\n",
       "      <th>Treatment</th>\n",
       "      <th>NetConv</th>\n",
       "      <th>GrossConv</th>\n",
       "    </tr>\n",
       "  </thead>\n",
       "  <tbody>\n",
       "    <tr>\n",
       "      <th>0</th>\n",
       "      <td>2017-10-11</td>\n",
       "      <td>7723</td>\n",
       "      <td>687</td>\n",
       "      <td>134.0</td>\n",
       "      <td>70.0</td>\n",
       "      <td>0</td>\n",
       "      <td>0.101892</td>\n",
       "      <td>0.195051</td>\n",
       "    </tr>\n",
       "    <tr>\n",
       "      <th>0</th>\n",
       "      <td>2017-10-11</td>\n",
       "      <td>7716</td>\n",
       "      <td>686</td>\n",
       "      <td>105.0</td>\n",
       "      <td>34.0</td>\n",
       "      <td>1</td>\n",
       "      <td>0.049563</td>\n",
       "      <td>0.153061</td>\n",
       "    </tr>\n",
       "    <tr>\n",
       "      <th>1</th>\n",
       "      <td>2017-10-12</td>\n",
       "      <td>9102</td>\n",
       "      <td>779</td>\n",
       "      <td>147.0</td>\n",
       "      <td>70.0</td>\n",
       "      <td>0</td>\n",
       "      <td>0.089859</td>\n",
       "      <td>0.188703</td>\n",
       "    </tr>\n",
       "    <tr>\n",
       "      <th>1</th>\n",
       "      <td>2017-10-12</td>\n",
       "      <td>9288</td>\n",
       "      <td>785</td>\n",
       "      <td>116.0</td>\n",
       "      <td>91.0</td>\n",
       "      <td>1</td>\n",
       "      <td>0.115924</td>\n",
       "      <td>0.147771</td>\n",
       "    </tr>\n",
       "    <tr>\n",
       "      <th>2</th>\n",
       "      <td>2017-10-13</td>\n",
       "      <td>10511</td>\n",
       "      <td>909</td>\n",
       "      <td>167.0</td>\n",
       "      <td>95.0</td>\n",
       "      <td>0</td>\n",
       "      <td>0.104510</td>\n",
       "      <td>0.183718</td>\n",
       "    </tr>\n",
       "  </tbody>\n",
       "</table>\n",
       "</div>"
      ],
      "text/plain": [
       "        Date  Pageviews  Clicks  Enrollments  Payments  Treatment   NetConv  \\\n",
       "0 2017-10-11       7723     687        134.0      70.0          0  0.101892   \n",
       "0 2017-10-11       7716     686        105.0      34.0          1  0.049563   \n",
       "1 2017-10-12       9102     779        147.0      70.0          0  0.089859   \n",
       "1 2017-10-12       9288     785        116.0      91.0          1  0.115924   \n",
       "2 2017-10-13      10511     909        167.0      95.0          0  0.104510   \n",
       "\n",
       "   GrossConv  \n",
       "0   0.195051  \n",
       "0   0.153061  \n",
       "1   0.188703  \n",
       "1   0.147771  \n",
       "2   0.183718  "
      ]
     },
     "execution_count": 7,
     "metadata": {},
     "output_type": "execute_result"
    }
   ],
   "source": [
    "data['NetConv'] = data['Payments'] / data['Clicks'] \n",
    "data['GrossConv'] = data['Enrollments'] / data['Clicks'] \n",
    "data.head()"
   ]
  },
  {
   "cell_type": "markdown",
   "metadata": {},
   "source": [
    "## Exercise 5\n",
    "Whenever you are working with experimental data, the first thing you want to do is verify that users actually were randomly sorted into the two arms of the experiment. In this data, half of users were supposed to be shown the old version of the site and half were supposed to see the new version.\n",
    "\n",
    "Pageviews tells you how many unique users visited the welcome site we are experimenting on. Pageviews is what is sometimes called an “invariant” variable, meaning that it shouldn’t vary across treatment arms – after all, people have to visit the site before they get a chance to see the treatment, so there’s no way that being assigned to treatment or control should affect the number of pageviews assigned to each group.\n",
    "\n",
    "“Invariant” variables are also an example of what are known as a “pre-treatment” variable, because pageviews are determined before users are manipulated in any way. That makes it analogous to gender or age in experiments where you have demographic data – a person’s age and gender are determined before they experience any manipulations, so the value of any pre-treatment attributes should be the same across the two arms of our experiment. This is what is called “checking for balance.” If pre-treatment attributes aren’t balanced, then we know our attempt to randomly assign people to different groups failed.\n",
    "\n",
    "To test the quality of the randomization, calculate the average number of pageviews for the treated group and for the control group. Do they look similar?"
   ]
  },
  {
   "cell_type": "code",
   "execution_count": 8,
   "metadata": {},
   "outputs": [
    {
     "name": "stdout",
     "output_type": "stream",
     "text": [
      "Average Pageviews of Treatment Group is 9315.135\n",
      "Average Pageviews of Control Group is 9339.000\n"
     ]
    }
   ],
   "source": [
    "print(\"Average Pageviews of Treatment Group is {:.3f}\".format(\n",
    "    np.mean(data[data['Treatment'] == 1][\"Pageviews\"])))\n",
    "print(\"Average Pageviews of Control Group is {:.3f}\".format(\n",
    "    np.mean(data[data['Treatment'] == 0][\"Pageviews\"])))"
   ]
  },
  {
   "cell_type": "markdown",
   "metadata": {},
   "source": [
    "> According to above data, the two groups pageviews are very similar."
   ]
  },
  {
   "cell_type": "markdown",
   "metadata": {},
   "source": [
    "## Exercise 6\n",
    "“Similar” is a tricky concept – obviously, we expect some differences across groups since users were randomly divided across treatment arms. The question is whether the differences between groups are larger than we’d expect to emerge given our random assignment process. To evaluate this, let’s use a ttest to test the statistical significance of the differences we see.\n",
    "\n",
    "If you’re using R, you can just use the t.test function.\n",
    "\n",
    "If you’re using Python, you can use the ttest function from scipy, which you can import as from scipy.stats import ttest_ind.\n",
    "\n",
    "Note: Remember that scipy functions don’t accept pandas objects, so you have to pass the numpy vectors underlying your data with the .values operator (e.g. df.my_column.values).\n",
    "\n",
    "Does the difference in pageviews look statistically significant?"
   ]
  },
  {
   "cell_type": "code",
   "execution_count": 9,
   "metadata": {},
   "outputs": [
    {
     "name": "stdout",
     "output_type": "stream",
     "text": [
      "The p-value of Treatment t-test is 0.888\n"
     ]
    }
   ],
   "source": [
    "test_res = stats.ttest_ind(data[data['Treatment'] == 1][\"Pageviews\"], \n",
    "                           data[data['Treatment'] == 0][\"Pageviews\"])\n",
    "\n",
    "print(\"The p-value of Treatment t-test is {:.3f}\".format(test_res.pvalue))"
   ]
  },
  {
   "cell_type": "markdown",
   "metadata": {},
   "source": [
    "> Because the p-value is bigger than 0.05, we cannot reject the hypothesis that the two group's Pageviews average is identical. In other words, the difference in pageviews is not significant."
   ]
  },
  {
   "cell_type": "markdown",
   "metadata": {},
   "source": [
    "## Exercise 7\n",
    "Pageviews is not the only pre-treatment variable in this data. What other measure is pre-treatment? Review the description of the experiment if you’re not sure."
   ]
  },
  {
   "cell_type": "markdown",
   "metadata": {},
   "source": [
    "> Another pre-treatment variable in this data are:  \n",
    "- Clicks\n",
    "- Click-through-probability (CTP) of the Free Trial Button. The CTP is cauculated by:$CPT = \\frac{Pageviews}{Clicks} $"
   ]
  },
  {
   "cell_type": "markdown",
   "metadata": {},
   "source": [
    "## Exercise 8\n",
    "Check if the other pre-treatment variable is also balanced."
   ]
  },
  {
   "cell_type": "markdown",
   "metadata": {},
   "source": [
    "#### a. Clicks"
   ]
  },
  {
   "cell_type": "code",
   "execution_count": 10,
   "metadata": {},
   "outputs": [
    {
     "name": "stdout",
     "output_type": "stream",
     "text": [
      "The p-value of Clicks t-test is 0.926\n"
     ]
    }
   ],
   "source": [
    "test_res = stats.ttest_ind(data[data['Treatment'] == 1][\"Clicks\"], \n",
    "                           data[data['Treatment'] == 0][\"Clicks\"])\n",
    "\n",
    "print(\"The p-value of Clicks t-test is {:.3f}\".format(test_res.pvalue))"
   ]
  },
  {
   "cell_type": "markdown",
   "metadata": {},
   "source": [
    "> According to the result of the t-test, there is no evidence that the average of Clicks of the two groups is not identical. \n",
    "Hence, the variable of Clicks is balanced."
   ]
  },
  {
   "cell_type": "markdown",
   "metadata": {},
   "source": [
    "#### b. CTP"
   ]
  },
  {
   "cell_type": "code",
   "execution_count": 11,
   "metadata": {},
   "outputs": [
    {
     "data": {
      "text/html": [
       "<div>\n",
       "<style scoped>\n",
       "    .dataframe tbody tr th:only-of-type {\n",
       "        vertical-align: middle;\n",
       "    }\n",
       "\n",
       "    .dataframe tbody tr th {\n",
       "        vertical-align: top;\n",
       "    }\n",
       "\n",
       "    .dataframe thead th {\n",
       "        text-align: right;\n",
       "    }\n",
       "</style>\n",
       "<table border=\"1\" class=\"dataframe\">\n",
       "  <thead>\n",
       "    <tr style=\"text-align: right;\">\n",
       "      <th></th>\n",
       "      <th>Date</th>\n",
       "      <th>Pageviews</th>\n",
       "      <th>Clicks</th>\n",
       "      <th>Enrollments</th>\n",
       "      <th>Payments</th>\n",
       "      <th>Treatment</th>\n",
       "      <th>NetConv</th>\n",
       "      <th>GrossConv</th>\n",
       "      <th>CPT</th>\n",
       "    </tr>\n",
       "  </thead>\n",
       "  <tbody>\n",
       "    <tr>\n",
       "      <th>0</th>\n",
       "      <td>2017-10-11</td>\n",
       "      <td>7723</td>\n",
       "      <td>687</td>\n",
       "      <td>134.0</td>\n",
       "      <td>70.0</td>\n",
       "      <td>0</td>\n",
       "      <td>0.101892</td>\n",
       "      <td>0.195051</td>\n",
       "      <td>11.241630</td>\n",
       "    </tr>\n",
       "    <tr>\n",
       "      <th>0</th>\n",
       "      <td>2017-10-11</td>\n",
       "      <td>7716</td>\n",
       "      <td>686</td>\n",
       "      <td>105.0</td>\n",
       "      <td>34.0</td>\n",
       "      <td>1</td>\n",
       "      <td>0.049563</td>\n",
       "      <td>0.153061</td>\n",
       "      <td>11.247813</td>\n",
       "    </tr>\n",
       "    <tr>\n",
       "      <th>1</th>\n",
       "      <td>2017-10-12</td>\n",
       "      <td>9102</td>\n",
       "      <td>779</td>\n",
       "      <td>147.0</td>\n",
       "      <td>70.0</td>\n",
       "      <td>0</td>\n",
       "      <td>0.089859</td>\n",
       "      <td>0.188703</td>\n",
       "      <td>11.684211</td>\n",
       "    </tr>\n",
       "    <tr>\n",
       "      <th>1</th>\n",
       "      <td>2017-10-12</td>\n",
       "      <td>9288</td>\n",
       "      <td>785</td>\n",
       "      <td>116.0</td>\n",
       "      <td>91.0</td>\n",
       "      <td>1</td>\n",
       "      <td>0.115924</td>\n",
       "      <td>0.147771</td>\n",
       "      <td>11.831847</td>\n",
       "    </tr>\n",
       "    <tr>\n",
       "      <th>2</th>\n",
       "      <td>2017-10-13</td>\n",
       "      <td>10511</td>\n",
       "      <td>909</td>\n",
       "      <td>167.0</td>\n",
       "      <td>95.0</td>\n",
       "      <td>0</td>\n",
       "      <td>0.104510</td>\n",
       "      <td>0.183718</td>\n",
       "      <td>11.563256</td>\n",
       "    </tr>\n",
       "  </tbody>\n",
       "</table>\n",
       "</div>"
      ],
      "text/plain": [
       "        Date  Pageviews  Clicks  Enrollments  Payments  Treatment   NetConv  \\\n",
       "0 2017-10-11       7723     687        134.0      70.0          0  0.101892   \n",
       "0 2017-10-11       7716     686        105.0      34.0          1  0.049563   \n",
       "1 2017-10-12       9102     779        147.0      70.0          0  0.089859   \n",
       "1 2017-10-12       9288     785        116.0      91.0          1  0.115924   \n",
       "2 2017-10-13      10511     909        167.0      95.0          0  0.104510   \n",
       "\n",
       "   GrossConv        CPT  \n",
       "0   0.195051  11.241630  \n",
       "0   0.153061  11.247813  \n",
       "1   0.188703  11.684211  \n",
       "1   0.147771  11.831847  \n",
       "2   0.183718  11.563256  "
      ]
     },
     "execution_count": 11,
     "metadata": {},
     "output_type": "execute_result"
    }
   ],
   "source": [
    "data[\"CPT\"] = data[\"Pageviews\"] / data[\"Clicks\"]\n",
    "data.head()"
   ]
  },
  {
   "cell_type": "code",
   "execution_count": 12,
   "metadata": {},
   "outputs": [
    {
     "name": "stdout",
     "output_type": "stream",
     "text": [
      "The p-value of CPT t-test is 0.924\n"
     ]
    }
   ],
   "source": [
    "test_res = stats.ttest_ind(data[data['Treatment'] == 1][\"CPT\"], \n",
    "                           data[data['Treatment'] == 0][\"CPT\"])\n",
    "\n",
    "print(\"The p-value of CPT t-test is {:.3f}\".format(test_res.pvalue))"
   ]
  },
  {
   "cell_type": "markdown",
   "metadata": {},
   "source": [
    "> According to the result of the t-test, there is no evidence that the average of CPT of the two groups is not identical. Hence, the variable of CPT is balanced."
   ]
  },
  {
   "cell_type": "markdown",
   "metadata": {},
   "source": [
    "#### Summary\n",
    "\n",
    "All pre-treatment variables are balanced. It shows that the dataset passes the sanity check and is ready for future analysis."
   ]
  },
  {
   "cell_type": "markdown",
   "metadata": {},
   "source": [
    "## Exercise 9\n",
    "Now that we’ve established we have good balance (meaning we think randomization was likely successful), we can evaluate the effects of the experiment. Test whether the two metrics you picked have different average values in the control group and treatment group. Because we’ve randomized, this is a consistent estimate of the Average Treatment Effect of Udacity’s website change.\n",
    "\n",
    "Did Udacity achieve their goal?\n",
    "\n",
    "Note: You may discover some issues with your data. Can you figure out what’s going on, and adjust?"
   ]
  },
  {
   "cell_type": "code",
   "execution_count": 13,
   "metadata": {},
   "outputs": [
    {
     "name": "stdout",
     "output_type": "stream",
     "text": [
      "<class 'pandas.core.frame.DataFrame'>\n",
      "Int64Index: 74 entries, 0 to 36\n",
      "Data columns (total 9 columns):\n",
      " #   Column       Non-Null Count  Dtype         \n",
      "---  ------       --------------  -----         \n",
      " 0   Date         74 non-null     datetime64[ns]\n",
      " 1   Pageviews    74 non-null     int64         \n",
      " 2   Clicks       74 non-null     int64         \n",
      " 3   Enrollments  46 non-null     float64       \n",
      " 4   Payments     46 non-null     float64       \n",
      " 5   Treatment    74 non-null     int64         \n",
      " 6   NetConv      46 non-null     float64       \n",
      " 7   GrossConv    46 non-null     float64       \n",
      " 8   CPT          74 non-null     float64       \n",
      "dtypes: datetime64[ns](1), float64(5), int64(3)\n",
      "memory usage: 5.8 KB\n"
     ]
    }
   ],
   "source": [
    "data.info()"
   ]
  },
  {
   "cell_type": "code",
   "execution_count": 14,
   "metadata": {},
   "outputs": [],
   "source": [
    "# There are null data in the dateset, drop them \n",
    "full_data = data.dropna()"
   ]
  },
  {
   "cell_type": "code",
   "execution_count": 15,
   "metadata": {},
   "outputs": [
    {
     "name": "stdout",
     "output_type": "stream",
     "text": [
      "The p-value of Net Conversion t-test is 0.593\n",
      "The p-value of Gross Conversion t-test is 0.131\n"
     ]
    }
   ],
   "source": [
    "test_res = stats.ttest_ind(full_data[full_data['Treatment'] == 1][\"NetConv\"], \n",
    "                           full_data[full_data['Treatment'] == 0][\"NetConv\"])\n",
    "\n",
    "print(\"The p-value of Net Conversion t-test is {:.3f}\".format(test_res.pvalue))\n",
    "\n",
    "test_res = stats.ttest_ind(full_data[full_data['Treatment'] == 1][\"GrossConv\"], \n",
    "                           full_data[full_data['Treatment'] == 0][\"GrossConv\"])\n",
    "\n",
    "print(\"The p-value of Gross Conversion t-test is {:.3f}\".format(test_res.pvalue))"
   ]
  },
  {
   "cell_type": "markdown",
   "metadata": {},
   "source": [
    "**Summary :** <br>\n",
    "According to p-value of t-test, the average values between control group and treatment group are not **significantly different.** Hence, Udacity haven't achieve their goal in this expeirment."
   ]
  },
  {
   "cell_type": "markdown",
   "metadata": {},
   "source": [
    "## Exercise 10\n",
    "One of the magic things about experiments is that all you have to do is compare averages to get an average treatment effect. However, you can do other things to try and increase the statistical power of your experiments, like add controls in a linear regression model.\n",
    "\n",
    "As you likely know, a bivariate regression is exactly equivalent to a t-test, so let’s start by re-estimating the effect of treatment on payments-per-click using a linear regression. Can you replicate the results from your t-test? They shouldn’t just be close – they should be numerically equivalent (i.e. exactly the same to the limits of floating point number precision)."
   ]
  },
  {
   "cell_type": "code",
   "execution_count": 16,
   "metadata": {},
   "outputs": [
    {
     "data": {
      "text/html": [
       "<table class=\"simpletable\">\n",
       "<caption>OLS Regression Results</caption>\n",
       "<tr>\n",
       "  <th>Dep. Variable:</th>        <td>GrossConv</td>    <th>  R-squared:         </th> <td>   0.051</td>\n",
       "</tr>\n",
       "<tr>\n",
       "  <th>Model:</th>                   <td>OLS</td>       <th>  Adj. R-squared:    </th> <td>   0.030</td>\n",
       "</tr>\n",
       "<tr>\n",
       "  <th>Method:</th>             <td>Least Squares</td>  <th>  F-statistic:       </th> <td>   2.371</td>\n",
       "</tr>\n",
       "<tr>\n",
       "  <th>Date:</th>             <td>Tue, 09 Feb 2021</td> <th>  Prob (F-statistic):</th>  <td> 0.131</td> \n",
       "</tr>\n",
       "<tr>\n",
       "  <th>Time:</th>                 <td>16:48:38</td>     <th>  Log-Likelihood:    </th> <td>  77.613</td>\n",
       "</tr>\n",
       "<tr>\n",
       "  <th>No. Observations:</th>      <td>    46</td>      <th>  AIC:               </th> <td>  -151.2</td>\n",
       "</tr>\n",
       "<tr>\n",
       "  <th>Df Residuals:</th>          <td>    44</td>      <th>  BIC:               </th> <td>  -147.6</td>\n",
       "</tr>\n",
       "<tr>\n",
       "  <th>Df Model:</th>              <td>     1</td>      <th>                     </th>     <td> </td>   \n",
       "</tr>\n",
       "<tr>\n",
       "  <th>Covariance Type:</th>      <td>nonrobust</td>    <th>                     </th>     <td> </td>   \n",
       "</tr>\n",
       "</table>\n",
       "<table class=\"simpletable\">\n",
       "<tr>\n",
       "      <td></td>         <th>coef</th>     <th>std err</th>      <th>t</th>      <th>P>|t|</th>  <th>[0.025</th>    <th>0.975]</th>  \n",
       "</tr>\n",
       "<tr>\n",
       "  <th>Intercept</th> <td>    0.2204</td> <td>    0.010</td> <td>   23.084</td> <td> 0.000</td> <td>    0.201</td> <td>    0.240</td>\n",
       "</tr>\n",
       "<tr>\n",
       "  <th>Treatment</th> <td>   -0.0208</td> <td>    0.013</td> <td>   -1.540</td> <td> 0.131</td> <td>   -0.048</td> <td>    0.006</td>\n",
       "</tr>\n",
       "</table>\n",
       "<table class=\"simpletable\">\n",
       "<tr>\n",
       "  <th>Omnibus:</th>       <td> 6.181</td> <th>  Durbin-Watson:     </th> <td>   0.677</td>\n",
       "</tr>\n",
       "<tr>\n",
       "  <th>Prob(Omnibus):</th> <td> 0.045</td> <th>  Jarque-Bera (JB):  </th> <td>   6.094</td>\n",
       "</tr>\n",
       "<tr>\n",
       "  <th>Skew:</th>          <td> 0.850</td> <th>  Prob(JB):          </th> <td>  0.0475</td>\n",
       "</tr>\n",
       "<tr>\n",
       "  <th>Kurtosis:</th>      <td> 2.460</td> <th>  Cond. No.          </th> <td>    2.62</td>\n",
       "</tr>\n",
       "</table><br/><br/>Notes:<br/>[1] Standard Errors assume that the covariance matrix of the errors is correctly specified."
      ],
      "text/plain": [
       "<class 'statsmodels.iolib.summary.Summary'>\n",
       "\"\"\"\n",
       "                            OLS Regression Results                            \n",
       "==============================================================================\n",
       "Dep. Variable:              GrossConv   R-squared:                       0.051\n",
       "Model:                            OLS   Adj. R-squared:                  0.030\n",
       "Method:                 Least Squares   F-statistic:                     2.371\n",
       "Date:                Tue, 09 Feb 2021   Prob (F-statistic):              0.131\n",
       "Time:                        16:48:38   Log-Likelihood:                 77.613\n",
       "No. Observations:                  46   AIC:                            -151.2\n",
       "Df Residuals:                      44   BIC:                            -147.6\n",
       "Df Model:                           1                                         \n",
       "Covariance Type:            nonrobust                                         \n",
       "==============================================================================\n",
       "                 coef    std err          t      P>|t|      [0.025      0.975]\n",
       "------------------------------------------------------------------------------\n",
       "Intercept      0.2204      0.010     23.084      0.000       0.201       0.240\n",
       "Treatment     -0.0208      0.013     -1.540      0.131      -0.048       0.006\n",
       "==============================================================================\n",
       "Omnibus:                        6.181   Durbin-Watson:                   0.677\n",
       "Prob(Omnibus):                  0.045   Jarque-Bera (JB):                6.094\n",
       "Skew:                           0.850   Prob(JB):                       0.0475\n",
       "Kurtosis:                       2.460   Cond. No.                         2.62\n",
       "==============================================================================\n",
       "\n",
       "Notes:\n",
       "[1] Standard Errors assume that the covariance matrix of the errors is correctly specified.\n",
       "\"\"\""
      ]
     },
     "execution_count": 16,
     "metadata": {},
     "output_type": "execute_result"
    }
   ],
   "source": [
    "import statsmodels.api as sm\n",
    "import statsmodels.formula.api as smf\n",
    "\n",
    "smf.ols(\"GrossConv ~ Treatment\", full_data).fit().summary()"
   ]
  },
  {
   "cell_type": "code",
   "execution_count": 17,
   "metadata": {},
   "outputs": [
    {
     "data": {
      "text/html": [
       "<table class=\"simpletable\">\n",
       "<caption>OLS Regression Results</caption>\n",
       "<tr>\n",
       "  <th>Dep. Variable:</th>         <td>NetConv</td>     <th>  R-squared:         </th> <td>   0.007</td>\n",
       "</tr>\n",
       "<tr>\n",
       "  <th>Model:</th>                   <td>OLS</td>       <th>  Adj. R-squared:    </th> <td>  -0.016</td>\n",
       "</tr>\n",
       "<tr>\n",
       "  <th>Method:</th>             <td>Least Squares</td>  <th>  F-statistic:       </th> <td>  0.2903</td>\n",
       "</tr>\n",
       "<tr>\n",
       "  <th>Date:</th>             <td>Tue, 09 Feb 2021</td> <th>  Prob (F-statistic):</th>  <td> 0.593</td> \n",
       "</tr>\n",
       "<tr>\n",
       "  <th>Time:</th>                 <td>16:48:38</td>     <th>  Log-Likelihood:    </th> <td>  95.810</td>\n",
       "</tr>\n",
       "<tr>\n",
       "  <th>No. Observations:</th>      <td>    46</td>      <th>  AIC:               </th> <td>  -187.6</td>\n",
       "</tr>\n",
       "<tr>\n",
       "  <th>Df Residuals:</th>          <td>    44</td>      <th>  BIC:               </th> <td>  -184.0</td>\n",
       "</tr>\n",
       "<tr>\n",
       "  <th>Df Model:</th>              <td>     1</td>      <th>                     </th>     <td> </td>   \n",
       "</tr>\n",
       "<tr>\n",
       "  <th>Covariance Type:</th>      <td>nonrobust</td>    <th>                     </th>     <td> </td>   \n",
       "</tr>\n",
       "</table>\n",
       "<table class=\"simpletable\">\n",
       "<tr>\n",
       "      <td></td>         <th>coef</th>     <th>std err</th>      <th>t</th>      <th>P>|t|</th>  <th>[0.025</th>    <th>0.975]</th>  \n",
       "</tr>\n",
       "<tr>\n",
       "  <th>Intercept</th> <td>    0.1183</td> <td>    0.006</td> <td>   18.403</td> <td> 0.000</td> <td>    0.105</td> <td>    0.131</td>\n",
       "</tr>\n",
       "<tr>\n",
       "  <th>Treatment</th> <td>   -0.0049</td> <td>    0.009</td> <td>   -0.539</td> <td> 0.593</td> <td>   -0.023</td> <td>    0.013</td>\n",
       "</tr>\n",
       "</table>\n",
       "<table class=\"simpletable\">\n",
       "<tr>\n",
       "  <th>Omnibus:</th>       <td> 0.968</td> <th>  Durbin-Watson:     </th> <td>   1.165</td>\n",
       "</tr>\n",
       "<tr>\n",
       "  <th>Prob(Omnibus):</th> <td> 0.616</td> <th>  Jarque-Bera (JB):  </th> <td>   0.985</td>\n",
       "</tr>\n",
       "<tr>\n",
       "  <th>Skew:</th>          <td> 0.316</td> <th>  Prob(JB):          </th> <td>   0.611</td>\n",
       "</tr>\n",
       "<tr>\n",
       "  <th>Kurtosis:</th>      <td> 2.662</td> <th>  Cond. No.          </th> <td>    2.62</td>\n",
       "</tr>\n",
       "</table><br/><br/>Notes:<br/>[1] Standard Errors assume that the covariance matrix of the errors is correctly specified."
      ],
      "text/plain": [
       "<class 'statsmodels.iolib.summary.Summary'>\n",
       "\"\"\"\n",
       "                            OLS Regression Results                            \n",
       "==============================================================================\n",
       "Dep. Variable:                NetConv   R-squared:                       0.007\n",
       "Model:                            OLS   Adj. R-squared:                 -0.016\n",
       "Method:                 Least Squares   F-statistic:                    0.2903\n",
       "Date:                Tue, 09 Feb 2021   Prob (F-statistic):              0.593\n",
       "Time:                        16:48:38   Log-Likelihood:                 95.810\n",
       "No. Observations:                  46   AIC:                            -187.6\n",
       "Df Residuals:                      44   BIC:                            -184.0\n",
       "Df Model:                           1                                         \n",
       "Covariance Type:            nonrobust                                         \n",
       "==============================================================================\n",
       "                 coef    std err          t      P>|t|      [0.025      0.975]\n",
       "------------------------------------------------------------------------------\n",
       "Intercept      0.1183      0.006     18.403      0.000       0.105       0.131\n",
       "Treatment     -0.0049      0.009     -0.539      0.593      -0.023       0.013\n",
       "==============================================================================\n",
       "Omnibus:                        0.968   Durbin-Watson:                   1.165\n",
       "Prob(Omnibus):                  0.616   Jarque-Bera (JB):                0.985\n",
       "Skew:                           0.316   Prob(JB):                        0.611\n",
       "Kurtosis:                       2.662   Cond. No.                         2.62\n",
       "==============================================================================\n",
       "\n",
       "Notes:\n",
       "[1] Standard Errors assume that the covariance matrix of the errors is correctly specified.\n",
       "\"\"\""
      ]
     },
     "execution_count": 17,
     "metadata": {},
     "output_type": "execute_result"
    }
   ],
   "source": [
    "smf.ols(\"NetConv ~ Treatment\", full_data).fit().summary()"
   ]
  },
  {
   "cell_type": "markdown",
   "metadata": {},
   "source": [
    "**Summary ：** The linear regression gives p-values of GrossConv (0.131) and NetConv (0.593) are **exactly** the same with the results given by t-test."
   ]
  },
  {
   "cell_type": "markdown",
   "metadata": {},
   "source": [
    "## Exercise 11\n",
    "Now add indicator variables for the day of each observation. Do the standard errors on your treatment variable change? If so, in what direction?\n",
    "\n",
    "You should have found that your standard errors decreased by about 20% – this is why, although just comparing means works, if you have additional variables you should add them as covariates in your analysis. Moreover, in other settings you may find this effect is even larger – the date indicators we added to our data are perfectly balanced between treatment and control, so we aren’t adding a lot of data to the model by adding them as variables. As we’ll see in later exercises, adding variables like “gender” or “age” (which will never be perfectly balanced across treatment and control) will help even more."
   ]
  },
  {
   "cell_type": "code",
   "execution_count": 18,
   "metadata": {},
   "outputs": [
    {
     "data": {
      "text/html": [
       "<table class=\"simpletable\">\n",
       "<caption>OLS Regression Results</caption>\n",
       "<tr>\n",
       "  <th>Dep. Variable:</th>         <td>NetConv</td>     <th>  R-squared:         </th> <td>   0.743</td>\n",
       "</tr>\n",
       "<tr>\n",
       "  <th>Model:</th>                   <td>OLS</td>       <th>  Adj. R-squared:    </th> <td>   0.475</td>\n",
       "</tr>\n",
       "<tr>\n",
       "  <th>Method:</th>             <td>Least Squares</td>  <th>  F-statistic:       </th> <td>   2.770</td>\n",
       "</tr>\n",
       "<tr>\n",
       "  <th>Date:</th>             <td>Tue, 09 Feb 2021</td> <th>  Prob (F-statistic):</th>  <td>0.00991</td>\n",
       "</tr>\n",
       "<tr>\n",
       "  <th>Time:</th>                 <td>16:48:38</td>     <th>  Log-Likelihood:    </th> <td>  126.94</td>\n",
       "</tr>\n",
       "<tr>\n",
       "  <th>No. Observations:</th>      <td>    46</td>      <th>  AIC:               </th> <td>  -205.9</td>\n",
       "</tr>\n",
       "<tr>\n",
       "  <th>Df Residuals:</th>          <td>    22</td>      <th>  BIC:               </th> <td>  -162.0</td>\n",
       "</tr>\n",
       "<tr>\n",
       "  <th>Df Model:</th>              <td>    23</td>      <th>                     </th>     <td> </td>   \n",
       "</tr>\n",
       "<tr>\n",
       "  <th>Covariance Type:</th>      <td>nonrobust</td>    <th>                     </th>     <td> </td>   \n",
       "</tr>\n",
       "</table>\n",
       "<table class=\"simpletable\">\n",
       "<tr>\n",
       "                      <td></td>                        <th>coef</th>     <th>std err</th>      <th>t</th>      <th>P>|t|</th>  <th>[0.025</th>    <th>0.975]</th>  \n",
       "</tr>\n",
       "<tr>\n",
       "  <th>Intercept</th>                                <td>    0.0782</td> <td>    0.016</td> <td>    4.885</td> <td> 0.000</td> <td>    0.045</td> <td>    0.111</td>\n",
       "</tr>\n",
       "<tr>\n",
       "  <th>Date[T.Timestamp('2017-10-12 00:00:00')]</th> <td>    0.0272</td> <td>    0.022</td> <td>    1.226</td> <td> 0.233</td> <td>   -0.019</td> <td>    0.073</td>\n",
       "</tr>\n",
       "<tr>\n",
       "  <th>Date[T.Timestamp('2017-10-13 00:00:00')]</th> <td>    0.0212</td> <td>    0.022</td> <td>    0.957</td> <td> 0.349</td> <td>   -0.025</td> <td>    0.067</td>\n",
       "</tr>\n",
       "<tr>\n",
       "  <th>Date[T.Timestamp('2017-10-14 00:00:00')]</th> <td>    0.0427</td> <td>    0.022</td> <td>    1.927</td> <td> 0.067</td> <td>   -0.003</td> <td>    0.089</td>\n",
       "</tr>\n",
       "<tr>\n",
       "  <th>Date[T.Timestamp('2017-10-15 00:00:00')]</th> <td>    0.0190</td> <td>    0.022</td> <td>    0.857</td> <td> 0.401</td> <td>   -0.027</td> <td>    0.065</td>\n",
       "</tr>\n",
       "<tr>\n",
       "  <th>Date[T.Timestamp('2017-10-16 00:00:00')]</th> <td>    0.0128</td> <td>    0.022</td> <td>    0.578</td> <td> 0.569</td> <td>   -0.033</td> <td>    0.059</td>\n",
       "</tr>\n",
       "<tr>\n",
       "  <th>Date[T.Timestamp('2017-10-17 00:00:00')]</th> <td>    0.0033</td> <td>    0.022</td> <td>    0.148</td> <td> 0.884</td> <td>   -0.043</td> <td>    0.049</td>\n",
       "</tr>\n",
       "<tr>\n",
       "  <th>Date[T.Timestamp('2017-10-18 00:00:00')]</th> <td>    0.0272</td> <td>    0.022</td> <td>    1.228</td> <td> 0.233</td> <td>   -0.019</td> <td>    0.073</td>\n",
       "</tr>\n",
       "<tr>\n",
       "  <th>Date[T.Timestamp('2017-10-19 00:00:00')]</th> <td>    0.0229</td> <td>    0.022</td> <td>    1.035</td> <td> 0.312</td> <td>   -0.023</td> <td>    0.069</td>\n",
       "</tr>\n",
       "<tr>\n",
       "  <th>Date[T.Timestamp('2017-10-20 00:00:00')]</th> <td>    0.0376</td> <td>    0.022</td> <td>    1.696</td> <td> 0.104</td> <td>   -0.008</td> <td>    0.084</td>\n",
       "</tr>\n",
       "<tr>\n",
       "  <th>Date[T.Timestamp('2017-10-21 00:00:00')]</th> <td>    0.0259</td> <td>    0.022</td> <td>    1.170</td> <td> 0.255</td> <td>   -0.020</td> <td>    0.072</td>\n",
       "</tr>\n",
       "<tr>\n",
       "  <th>Date[T.Timestamp('2017-10-22 00:00:00')]</th> <td>    0.0229</td> <td>    0.022</td> <td>    1.032</td> <td> 0.313</td> <td>   -0.023</td> <td>    0.069</td>\n",
       "</tr>\n",
       "<tr>\n",
       "  <th>Date[T.Timestamp('2017-10-23 00:00:00')]</th> <td>    0.0193</td> <td>    0.022</td> <td>    0.873</td> <td> 0.392</td> <td>   -0.027</td> <td>    0.065</td>\n",
       "</tr>\n",
       "<tr>\n",
       "  <th>Date[T.Timestamp('2017-10-24 00:00:00')]</th> <td>    0.0823</td> <td>    0.022</td> <td>    3.717</td> <td> 0.001</td> <td>    0.036</td> <td>    0.128</td>\n",
       "</tr>\n",
       "<tr>\n",
       "  <th>Date[T.Timestamp('2017-10-25 00:00:00')]</th> <td>    0.0774</td> <td>    0.022</td> <td>    3.495</td> <td> 0.002</td> <td>    0.031</td> <td>    0.123</td>\n",
       "</tr>\n",
       "<tr>\n",
       "  <th>Date[T.Timestamp('2017-10-26 00:00:00')]</th> <td>    0.0706</td> <td>    0.022</td> <td>    3.186</td> <td> 0.004</td> <td>    0.025</td> <td>    0.117</td>\n",
       "</tr>\n",
       "<tr>\n",
       "  <th>Date[T.Timestamp('2017-10-27 00:00:00')]</th> <td>    0.0831</td> <td>    0.022</td> <td>    3.752</td> <td> 0.001</td> <td>    0.037</td> <td>    0.129</td>\n",
       "</tr>\n",
       "<tr>\n",
       "  <th>Date[T.Timestamp('2017-10-28 00:00:00')]</th> <td>    0.0676</td> <td>    0.022</td> <td>    3.052</td> <td> 0.006</td> <td>    0.022</td> <td>    0.114</td>\n",
       "</tr>\n",
       "<tr>\n",
       "  <th>Date[T.Timestamp('2017-10-29 00:00:00')]</th> <td>    0.0485</td> <td>    0.022</td> <td>    2.188</td> <td> 0.040</td> <td>    0.003</td> <td>    0.094</td>\n",
       "</tr>\n",
       "<tr>\n",
       "  <th>Date[T.Timestamp('2017-10-30 00:00:00')]</th> <td>    0.0214</td> <td>    0.022</td> <td>    0.965</td> <td> 0.345</td> <td>   -0.025</td> <td>    0.067</td>\n",
       "</tr>\n",
       "<tr>\n",
       "  <th>Date[T.Timestamp('2017-10-31 00:00:00')]</th> <td>    0.0810</td> <td>    0.022</td> <td>    3.655</td> <td> 0.001</td> <td>    0.035</td> <td>    0.127</td>\n",
       "</tr>\n",
       "<tr>\n",
       "  <th>Date[T.Timestamp('2017-11-01 00:00:00')]</th> <td>    0.0645</td> <td>    0.022</td> <td>    2.911</td> <td> 0.008</td> <td>    0.019</td> <td>    0.110</td>\n",
       "</tr>\n",
       "<tr>\n",
       "  <th>Date[T.Timestamp('2017-11-02 00:00:00')]</th> <td>    0.0437</td> <td>    0.022</td> <td>    1.974</td> <td> 0.061</td> <td>   -0.002</td> <td>    0.090</td>\n",
       "</tr>\n",
       "<tr>\n",
       "  <th>Treatment</th>                                <td>   -0.0049</td> <td>    0.007</td> <td>   -0.750</td> <td> 0.461</td> <td>   -0.018</td> <td>    0.009</td>\n",
       "</tr>\n",
       "</table>\n",
       "<table class=\"simpletable\">\n",
       "<tr>\n",
       "  <th>Omnibus:</th>       <td> 4.114</td> <th>  Durbin-Watson:     </th> <td>   2.921</td>\n",
       "</tr>\n",
       "<tr>\n",
       "  <th>Prob(Omnibus):</th> <td> 0.128</td> <th>  Jarque-Bera (JB):  </th> <td>   1.796</td>\n",
       "</tr>\n",
       "<tr>\n",
       "  <th>Skew:</th>          <td>-0.000</td> <th>  Prob(JB):          </th> <td>   0.407</td>\n",
       "</tr>\n",
       "<tr>\n",
       "  <th>Kurtosis:</th>      <td> 2.032</td> <th>  Cond. No.          </th> <td>    27.3</td>\n",
       "</tr>\n",
       "</table><br/><br/>Notes:<br/>[1] Standard Errors assume that the covariance matrix of the errors is correctly specified."
      ],
      "text/plain": [
       "<class 'statsmodels.iolib.summary.Summary'>\n",
       "\"\"\"\n",
       "                            OLS Regression Results                            \n",
       "==============================================================================\n",
       "Dep. Variable:                NetConv   R-squared:                       0.743\n",
       "Model:                            OLS   Adj. R-squared:                  0.475\n",
       "Method:                 Least Squares   F-statistic:                     2.770\n",
       "Date:                Tue, 09 Feb 2021   Prob (F-statistic):            0.00991\n",
       "Time:                        16:48:38   Log-Likelihood:                 126.94\n",
       "No. Observations:                  46   AIC:                            -205.9\n",
       "Df Residuals:                      22   BIC:                            -162.0\n",
       "Df Model:                          23                                         \n",
       "Covariance Type:            nonrobust                                         \n",
       "============================================================================================================\n",
       "                                               coef    std err          t      P>|t|      [0.025      0.975]\n",
       "------------------------------------------------------------------------------------------------------------\n",
       "Intercept                                    0.0782      0.016      4.885      0.000       0.045       0.111\n",
       "Date[T.Timestamp('2017-10-12 00:00:00')]     0.0272      0.022      1.226      0.233      -0.019       0.073\n",
       "Date[T.Timestamp('2017-10-13 00:00:00')]     0.0212      0.022      0.957      0.349      -0.025       0.067\n",
       "Date[T.Timestamp('2017-10-14 00:00:00')]     0.0427      0.022      1.927      0.067      -0.003       0.089\n",
       "Date[T.Timestamp('2017-10-15 00:00:00')]     0.0190      0.022      0.857      0.401      -0.027       0.065\n",
       "Date[T.Timestamp('2017-10-16 00:00:00')]     0.0128      0.022      0.578      0.569      -0.033       0.059\n",
       "Date[T.Timestamp('2017-10-17 00:00:00')]     0.0033      0.022      0.148      0.884      -0.043       0.049\n",
       "Date[T.Timestamp('2017-10-18 00:00:00')]     0.0272      0.022      1.228      0.233      -0.019       0.073\n",
       "Date[T.Timestamp('2017-10-19 00:00:00')]     0.0229      0.022      1.035      0.312      -0.023       0.069\n",
       "Date[T.Timestamp('2017-10-20 00:00:00')]     0.0376      0.022      1.696      0.104      -0.008       0.084\n",
       "Date[T.Timestamp('2017-10-21 00:00:00')]     0.0259      0.022      1.170      0.255      -0.020       0.072\n",
       "Date[T.Timestamp('2017-10-22 00:00:00')]     0.0229      0.022      1.032      0.313      -0.023       0.069\n",
       "Date[T.Timestamp('2017-10-23 00:00:00')]     0.0193      0.022      0.873      0.392      -0.027       0.065\n",
       "Date[T.Timestamp('2017-10-24 00:00:00')]     0.0823      0.022      3.717      0.001       0.036       0.128\n",
       "Date[T.Timestamp('2017-10-25 00:00:00')]     0.0774      0.022      3.495      0.002       0.031       0.123\n",
       "Date[T.Timestamp('2017-10-26 00:00:00')]     0.0706      0.022      3.186      0.004       0.025       0.117\n",
       "Date[T.Timestamp('2017-10-27 00:00:00')]     0.0831      0.022      3.752      0.001       0.037       0.129\n",
       "Date[T.Timestamp('2017-10-28 00:00:00')]     0.0676      0.022      3.052      0.006       0.022       0.114\n",
       "Date[T.Timestamp('2017-10-29 00:00:00')]     0.0485      0.022      2.188      0.040       0.003       0.094\n",
       "Date[T.Timestamp('2017-10-30 00:00:00')]     0.0214      0.022      0.965      0.345      -0.025       0.067\n",
       "Date[T.Timestamp('2017-10-31 00:00:00')]     0.0810      0.022      3.655      0.001       0.035       0.127\n",
       "Date[T.Timestamp('2017-11-01 00:00:00')]     0.0645      0.022      2.911      0.008       0.019       0.110\n",
       "Date[T.Timestamp('2017-11-02 00:00:00')]     0.0437      0.022      1.974      0.061      -0.002       0.090\n",
       "Treatment                                   -0.0049      0.007     -0.750      0.461      -0.018       0.009\n",
       "==============================================================================\n",
       "Omnibus:                        4.114   Durbin-Watson:                   2.921\n",
       "Prob(Omnibus):                  0.128   Jarque-Bera (JB):                1.796\n",
       "Skew:                          -0.000   Prob(JB):                        0.407\n",
       "Kurtosis:                       2.032   Cond. No.                         27.3\n",
       "==============================================================================\n",
       "\n",
       "Notes:\n",
       "[1] Standard Errors assume that the covariance matrix of the errors is correctly specified.\n",
       "\"\"\""
      ]
     },
     "execution_count": 18,
     "metadata": {},
     "output_type": "execute_result"
    }
   ],
   "source": [
    "smf.ols(\"NetConv ~ Treatment + Date\", full_data).fit().summary()"
   ]
  },
  {
   "cell_type": "markdown",
   "metadata": {},
   "source": [
    "> Yes Treatment's standard error decrease about 20% from 0.009 to 0.007. And its p-value also decrase a little. "
   ]
  },
  {
   "cell_type": "markdown",
   "metadata": {},
   "source": [
    "## Exercise 12\n",
    "Given your results, what would you tell Udacity about their trial?"
   ]
  },
  {
   "cell_type": "markdown",
   "metadata": {},
   "source": [
    "> With the result, I would suggest to Udacity that it is better not to perform that modification because there is no statistically significant difference between control and treatment groups."
   ]
  },
  {
   "cell_type": "markdown",
   "metadata": {},
   "source": [
    "## Exercise 13\n",
    "As a last exercise, instead of adding indicators for each date, add indicators for day of the week (e.g. Monday, Tuesday, etc.).\n",
    "\n",
    "(This is just for data manipulation practice!)"
   ]
  },
  {
   "cell_type": "code",
   "execution_count": 19,
   "metadata": {},
   "outputs": [
    {
     "data": {
      "text/html": [
       "<div>\n",
       "<style scoped>\n",
       "    .dataframe tbody tr th:only-of-type {\n",
       "        vertical-align: middle;\n",
       "    }\n",
       "\n",
       "    .dataframe tbody tr th {\n",
       "        vertical-align: top;\n",
       "    }\n",
       "\n",
       "    .dataframe thead th {\n",
       "        text-align: right;\n",
       "    }\n",
       "</style>\n",
       "<table border=\"1\" class=\"dataframe\">\n",
       "  <thead>\n",
       "    <tr style=\"text-align: right;\">\n",
       "      <th></th>\n",
       "      <th>Date</th>\n",
       "      <th>Pageviews</th>\n",
       "      <th>Clicks</th>\n",
       "      <th>Enrollments</th>\n",
       "      <th>Payments</th>\n",
       "      <th>Treatment</th>\n",
       "      <th>NetConv</th>\n",
       "      <th>GrossConv</th>\n",
       "      <th>CPT</th>\n",
       "      <th>DoW</th>\n",
       "    </tr>\n",
       "  </thead>\n",
       "  <tbody>\n",
       "    <tr>\n",
       "      <th>0</th>\n",
       "      <td>2017-10-11</td>\n",
       "      <td>7723</td>\n",
       "      <td>687</td>\n",
       "      <td>134.0</td>\n",
       "      <td>70.0</td>\n",
       "      <td>0</td>\n",
       "      <td>0.101892</td>\n",
       "      <td>0.195051</td>\n",
       "      <td>11.241630</td>\n",
       "      <td>Wednesday</td>\n",
       "    </tr>\n",
       "    <tr>\n",
       "      <th>0</th>\n",
       "      <td>2017-10-11</td>\n",
       "      <td>7716</td>\n",
       "      <td>686</td>\n",
       "      <td>105.0</td>\n",
       "      <td>34.0</td>\n",
       "      <td>1</td>\n",
       "      <td>0.049563</td>\n",
       "      <td>0.153061</td>\n",
       "      <td>11.247813</td>\n",
       "      <td>Wednesday</td>\n",
       "    </tr>\n",
       "    <tr>\n",
       "      <th>1</th>\n",
       "      <td>2017-10-12</td>\n",
       "      <td>9102</td>\n",
       "      <td>779</td>\n",
       "      <td>147.0</td>\n",
       "      <td>70.0</td>\n",
       "      <td>0</td>\n",
       "      <td>0.089859</td>\n",
       "      <td>0.188703</td>\n",
       "      <td>11.684211</td>\n",
       "      <td>Thursday</td>\n",
       "    </tr>\n",
       "    <tr>\n",
       "      <th>1</th>\n",
       "      <td>2017-10-12</td>\n",
       "      <td>9288</td>\n",
       "      <td>785</td>\n",
       "      <td>116.0</td>\n",
       "      <td>91.0</td>\n",
       "      <td>1</td>\n",
       "      <td>0.115924</td>\n",
       "      <td>0.147771</td>\n",
       "      <td>11.831847</td>\n",
       "      <td>Thursday</td>\n",
       "    </tr>\n",
       "    <tr>\n",
       "      <th>2</th>\n",
       "      <td>2017-10-13</td>\n",
       "      <td>10511</td>\n",
       "      <td>909</td>\n",
       "      <td>167.0</td>\n",
       "      <td>95.0</td>\n",
       "      <td>0</td>\n",
       "      <td>0.104510</td>\n",
       "      <td>0.183718</td>\n",
       "      <td>11.563256</td>\n",
       "      <td>Friday</td>\n",
       "    </tr>\n",
       "  </tbody>\n",
       "</table>\n",
       "</div>"
      ],
      "text/plain": [
       "        Date  Pageviews  Clicks  Enrollments  Payments  Treatment   NetConv  \\\n",
       "0 2017-10-11       7723     687        134.0      70.0          0  0.101892   \n",
       "0 2017-10-11       7716     686        105.0      34.0          1  0.049563   \n",
       "1 2017-10-12       9102     779        147.0      70.0          0  0.089859   \n",
       "1 2017-10-12       9288     785        116.0      91.0          1  0.115924   \n",
       "2 2017-10-13      10511     909        167.0      95.0          0  0.104510   \n",
       "\n",
       "   GrossConv        CPT        DoW  \n",
       "0   0.195051  11.241630  Wednesday  \n",
       "0   0.153061  11.247813  Wednesday  \n",
       "1   0.188703  11.684211   Thursday  \n",
       "1   0.147771  11.831847   Thursday  \n",
       "2   0.183718  11.563256     Friday  "
      ]
     },
     "execution_count": 19,
     "metadata": {},
     "output_type": "execute_result"
    }
   ],
   "source": [
    "import calendar\n",
    "\n",
    "data[\"DoW\"] = [calendar.day_name[x.weekday() ] for x in data[\"Date\"] ]\n",
    "data.head()"
   ]
  },
  {
   "cell_type": "markdown",
   "metadata": {},
   "source": [
    "> The day of week is stored in **DoW** column."
   ]
  }
 ],
 "metadata": {
  "kernelspec": {
   "display_name": "Python 3",
   "language": "python",
   "name": "python3"
  },
  "language_info": {
   "codemirror_mode": {
    "name": "ipython",
    "version": 3
   },
   "file_extension": ".py",
   "mimetype": "text/x-python",
   "name": "python",
   "nbconvert_exporter": "python",
   "pygments_lexer": "ipython3",
   "version": "3.6.12"
  }
 },
 "nbformat": 4,
 "nbformat_minor": 4
}
